{
 "cells": [
  {
   "cell_type": "code",
   "execution_count": 2,
   "metadata": {},
   "outputs": [
    {
     "data": {
      "text/plain": [
       "'https://medium.com/search?q=web%20design'"
      ]
     },
     "execution_count": 2,
     "metadata": {},
     "output_type": "execute_result"
    }
   ],
   "source": [
    "from selenium import webdriver\n",
    "import pandas as pd\n",
    "from selenium.webdriver.common.by import By\n",
    "from selenium.webdriver.support.ui import WebDriverWait\n",
    "from selenium.webdriver.support import expected_conditions as EC\n",
    "\n",
    "keywords = [\"product design\",\"ux research\",\"userinterface-design\",\"figma\",\"user-experience-design\"]"
   ]
  },
  {
   "cell_type": "code",
   "execution_count": 70,
   "metadata": {},
   "outputs": [
    {
     "name": "stdout",
     "output_type": "stream",
     "text": [
      "user experience design\n"
     ]
    },
    {
     "ename": "IndexError",
     "evalue": "list index out of range",
     "output_type": "error",
     "traceback": [
      "\u001b[1;31m---------------------------------------------------------------------------\u001b[0m",
      "\u001b[1;31mIndexError\u001b[0m                                Traceback (most recent call last)",
      "\u001b[1;32m<ipython-input-70-c34a067dd9bf>\u001b[0m in \u001b[0;36m<module>\u001b[1;34m\u001b[0m\n\u001b[0;32m     50\u001b[0m \u001b[1;32mtry\u001b[0m\u001b[1;33m:\u001b[0m\u001b[1;33m\u001b[0m\u001b[1;33m\u001b[0m\u001b[0m\n\u001b[0;32m     51\u001b[0m     \u001b[1;32mfor\u001b[0m \u001b[0mi\u001b[0m \u001b[1;32min\u001b[0m \u001b[0mrange\u001b[0m\u001b[1;33m(\u001b[0m\u001b[0mlen\u001b[0m\u001b[1;33m(\u001b[0m\u001b[0mlinks\u001b[0m\u001b[1;33m)\u001b[0m\u001b[1;33m)\u001b[0m\u001b[1;33m:\u001b[0m\u001b[1;33m\u001b[0m\u001b[1;33m\u001b[0m\u001b[0m\n\u001b[1;32m---> 52\u001b[1;33m         \u001b[0mtot\u001b[0m\u001b[1;33m[\u001b[0m\u001b[1;34m\"Title\"\u001b[0m\u001b[1;33m]\u001b[0m\u001b[1;33m.\u001b[0m\u001b[0mappend\u001b[0m\u001b[1;33m(\u001b[0m\u001b[0mtitle\u001b[0m\u001b[1;33m[\u001b[0m\u001b[0mi\u001b[0m\u001b[1;33m]\u001b[0m\u001b[1;33m)\u001b[0m\u001b[1;33m\u001b[0m\u001b[1;33m\u001b[0m\u001b[0m\n\u001b[0m\u001b[0;32m     53\u001b[0m         \u001b[0mtot\u001b[0m\u001b[1;33m[\u001b[0m\u001b[1;34m\"Link\"\u001b[0m\u001b[1;33m]\u001b[0m\u001b[1;33m.\u001b[0m\u001b[0mappend\u001b[0m\u001b[1;33m(\u001b[0m\u001b[0mlink\u001b[0m\u001b[1;33m[\u001b[0m\u001b[0mi\u001b[0m\u001b[1;33m]\u001b[0m\u001b[1;33m)\u001b[0m\u001b[1;33m\u001b[0m\u001b[1;33m\u001b[0m\u001b[0m\n\u001b[0;32m     54\u001b[0m         \u001b[0mtot\u001b[0m\u001b[1;33m[\u001b[0m\u001b[1;34m\"Price\"\u001b[0m\u001b[1;33m]\u001b[0m\u001b[1;33m.\u001b[0m\u001b[0mappend\u001b[0m\u001b[1;33m(\u001b[0m\u001b[1;34m\"Free\"\u001b[0m\u001b[1;33m)\u001b[0m\u001b[1;33m\u001b[0m\u001b[1;33m\u001b[0m\u001b[0m\n",
      "\u001b[1;31mIndexError\u001b[0m: list index out of range"
     ]
    }
   ],
   "source": [
    "#keywords = [\"product design\",\"ux research\",\"user interface design\",\"figma\",\"user experience design\"]  \n",
    "keywords = \"user experience design\"\n",
    "\n",
    "def search(keywords):\n",
    "    print(keywords)\n",
    "    keyword = keywords.split(\" \")\n",
    "    keyword = keyword[0]+''.join(['%20'+k for k in keyword[1:]])\n",
    "    #keywords = keywords[0]+'+'+keywords[1] if len(keywords) < 1 else keywords[0]\n",
    "    return 'https://medium.com/search?q=' + keyword  \n",
    "url = search(keywords)\n",
    "\n",
    "\n",
    "path = r'C:\\\\Users\\\\ToyinOlape\\\\Downloads\\\\chromedriver_win32\\\\chromedriver.exe'\n",
    "driver = webdriver.Chrome(executable_path = path)\n",
    "\n",
    "\n",
    "driver.get(url)\n",
    "\n",
    "#Title\n",
    "title = []\n",
    "titles = driver.find_elements_by_xpath(\"//div[@class='section-content']/div/h3\")\n",
    "for a in titles:\n",
    "    title.append(a.text)\n",
    "\n",
    "#Upvotes\n",
    "upvote = []\n",
    "upvotes =driver.find_elements_by_xpath(\"//div[@class='multirecommend js-actionMultirecommend u-flexCenter']/span/button\")\n",
    "for b in upvotes:\n",
    "    upvote.append(b.text)\n",
    "#Links\n",
    "link = []\n",
    "links = driver.find_elements_by_xpath(\"//div[@class='postArticle-content']/a\")\n",
    "for c in links:\n",
    "    link.append(c.get_property('href'))\n",
    "\n",
    "#image link \n",
    "img_url = []\n",
    "img_urls = driver.find_elements_by_xpath(\"//div[@class='progressiveMedia js-progressiveMedia graf-image is-canvasLoaded is-imageLoaded']/img\")\n",
    "for d in img_urls:\n",
    "    img_url.append(d.get_property('src'))\n",
    "\n",
    "author = []\n",
    "authors = driver.find_elements_by_xpath(\"//div[@class='postMetaInline postMetaInline-authorLockup ui-captionStrong u-flex1 u-noWrapWithEllipsis']/a\")\n",
    "for e in authors:\n",
    "    author.append(e.text)\n",
    "\n",
    "\n",
    "tot = {\"Title\":[], \"Link\":[], \"Price\":[], \"Resource_Type\":[], \"Upvotes\":[], \"Keyword\":[],\"Source\":[], \"Source_url\":[], \"Thumbnail\":[]}\n",
    "\n",
    "try:\n",
    "    for i in range(len(links)):\n",
    "        tot[\"Title\"].append(title[i])\n",
    "        tot[\"Link\"].append(link[i])\n",
    "        tot[\"Price\"].append(\"Free\")\n",
    "        tot[\"Resource_Type\"].append(\"article\")\n",
    "        tot[\"Upvotes\"].append(upvote[i])\n",
    "        tot[\"Keyword\"].append(keywords)\n",
    "        tot[\"Source\"].append(\"medium\")\n",
    "        tot[\"Source_url\"].append(author[i])\n",
    "        #tot[\"Thumbnail\"].append(img_url[i])\n",
    "        df5 = pd.DataFrame(tot,columns=[\"Title\", \"Link\", \"Price\", \"Resource_Type\", \"Upvotes\", \"Keyword\",\"Source\", \"Source_url\"])  \n",
    "\n",
    "finally:\n",
    "    driver.quit()      \n",
    "\n",
    "        \n"
   ]
  },
  {
   "cell_type": "code",
   "execution_count": 62,
   "metadata": {},
   "outputs": [
    {
     "data": {
      "text/plain": [
       "((8, 8), (10, 8), (10, 8), (10, 8), (7, 8))"
      ]
     },
     "execution_count": 62,
     "metadata": {},
     "output_type": "execute_result"
    }
   ],
   "source": [
    "df1.shape, df2.shape,df3.shape,df4.shape,df5.shape"
   ]
  },
  {
   "cell_type": "code",
   "execution_count": 66,
   "metadata": {},
   "outputs": [
    {
     "data": {
      "text/plain": [
       "(45, 8)"
      ]
     },
     "execution_count": 66,
     "metadata": {},
     "output_type": "execute_result"
    }
   ],
   "source": [
    "md = df1.append(df2.append(df3.append(df4.append(df5))))"
   ]
  },
  {
   "cell_type": "code",
   "execution_count": 68,
   "metadata": {},
   "outputs": [
    {
     "data": {
      "text/plain": [
       "(45, 8)"
      ]
     },
     "execution_count": 68,
     "metadata": {},
     "output_type": "execute_result"
    }
   ],
   "source": [
    "md.shape"
   ]
  },
  {
   "cell_type": "code",
   "execution_count": 69,
   "metadata": {},
   "outputs": [],
   "source": [
    "md.to_csv(\"md.csv\")"
   ]
  }
 ],
 "metadata": {
  "kernelspec": {
   "display_name": "Python 3",
   "language": "python",
   "name": "python3"
  },
  "language_info": {
   "codemirror_mode": {
    "name": "ipython",
    "version": 3
   },
   "file_extension": ".py",
   "mimetype": "text/x-python",
   "name": "python",
   "nbconvert_exporter": "python",
   "pygments_lexer": "ipython3",
   "version": "3.9.4"
  }
 },
 "nbformat": 4,
 "nbformat_minor": 4
}
