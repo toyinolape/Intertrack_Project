{
 "cells": [
  {
   "cell_type": "code",
   "execution_count": 2,
   "metadata": {},
   "outputs": [
    {
     "data": {
      "text/plain": [
       "'https://medium.com/search?q=web%20design'"
      ]
     },
     "execution_count": 2,
     "metadata": {},
     "output_type": "execute_result"
    }
   ],
   "source": [
    "from selenium import webdriver\n",
    "import pandas as pd\n",
    "from selenium.webdriver.common.by import By\n",
    "from selenium.webdriver.support.ui import WebDriverWait\n",
    "from selenium.webdriver.support import expected_conditions as EC\n",
    "\n",
    "def search(keywords):\n",
    "    keywords = keywords.split(\" \")\n",
    "    return 'https://medium.com/search'+'?q=' +keywords[0]+'%20'+keywords[1]\n",
    "\n",
    "url = search(\"web design\")\n",
    "url"
   ]
  },
  {
   "cell_type": "code",
   "execution_count": 9,
   "metadata": {},
   "outputs": [
    {
     "ename": "IndexError",
     "evalue": "list index out of range",
     "output_type": "error",
     "traceback": [
      "\u001b[1;31m---------------------------------------------------------------------------\u001b[0m",
      "\u001b[1;31mIndexError\u001b[0m                                Traceback (most recent call last)",
      "\u001b[1;32m<ipython-input-9-4f9b6ecc5bfa>\u001b[0m in \u001b[0;36m<module>\u001b[1;34m\u001b[0m\n\u001b[0;32m     38\u001b[0m \u001b[0mtot\u001b[0m \u001b[1;33m=\u001b[0m\u001b[1;33m[\u001b[0m\u001b[1;33m]\u001b[0m\u001b[1;33m\u001b[0m\u001b[1;33m\u001b[0m\u001b[0m\n\u001b[0;32m     39\u001b[0m \u001b[1;32mfor\u001b[0m \u001b[0mi\u001b[0m \u001b[1;32min\u001b[0m \u001b[0mrange\u001b[0m\u001b[1;33m(\u001b[0m\u001b[0mlen\u001b[0m\u001b[1;33m(\u001b[0m\u001b[0mtitle\u001b[0m\u001b[1;33m)\u001b[0m\u001b[1;33m)\u001b[0m\u001b[1;33m:\u001b[0m\u001b[1;33m\u001b[0m\u001b[1;33m\u001b[0m\u001b[0m\n\u001b[1;32m---> 40\u001b[1;33m     \u001b[0mtot\u001b[0m\u001b[1;33m.\u001b[0m\u001b[0mappend\u001b[0m\u001b[1;33m(\u001b[0m\u001b[1;33m{\u001b[0m\u001b[1;34m\"Title\"\u001b[0m\u001b[1;33m:\u001b[0m\u001b[0mtitle\u001b[0m\u001b[1;33m[\u001b[0m\u001b[0mi\u001b[0m\u001b[1;33m]\u001b[0m\u001b[1;33m,\u001b[0m \u001b[1;34m\"Link\"\u001b[0m\u001b[1;33m:\u001b[0m\u001b[0mlink\u001b[0m\u001b[1;33m[\u001b[0m\u001b[0mi\u001b[0m\u001b[1;33m]\u001b[0m\u001b[1;33m,\u001b[0m \u001b[1;34m\"Price\"\u001b[0m\u001b[1;33m:\u001b[0m\u001b[0mprice\u001b[0m\u001b[1;33m,\u001b[0m \u001b[1;34m\"Resource_Type\"\u001b[0m\u001b[1;33m:\u001b[0m\u001b[0mres_type\u001b[0m\u001b[1;33m,\u001b[0m \u001b[1;34m\"Upvotes\"\u001b[0m\u001b[1;33m:\u001b[0m\u001b[0mupvote\u001b[0m\u001b[1;33m[\u001b[0m\u001b[0mi\u001b[0m\u001b[1;33m]\u001b[0m\u001b[1;33m,\u001b[0m \u001b[1;34m\"Keyword\"\u001b[0m\u001b[1;33m:\u001b[0m\u001b[0mkeyword\u001b[0m\u001b[1;33m,\u001b[0m\u001b[1;34m\"Source\"\u001b[0m\u001b[1;33m:\u001b[0m\u001b[0mSource\u001b[0m\u001b[1;33m,\u001b[0m \u001b[1;34m\"Source_url\"\u001b[0m\u001b[1;33m:\u001b[0m\u001b[0mauthor\u001b[0m\u001b[1;33m[\u001b[0m\u001b[0mi\u001b[0m\u001b[1;33m]\u001b[0m\u001b[1;33m,\u001b[0m \u001b[1;34m\"Thumbnail\"\u001b[0m\u001b[1;33m:\u001b[0m\u001b[0mimg_url\u001b[0m\u001b[1;33m[\u001b[0m\u001b[0mi\u001b[0m\u001b[1;33m]\u001b[0m\u001b[1;33m}\u001b[0m\u001b[1;33m)\u001b[0m\u001b[1;33m\u001b[0m\u001b[1;33m\u001b[0m\u001b[0m\n\u001b[0m",
      "\u001b[1;31mIndexError\u001b[0m: list index out of range"
     ]
    }
   ],
   "source": [
    "path = r'C:\\\\Users\\\\ToyinOlape\\\\Downloads\\\\chromedriver_win32\\\\chromedriver.exe'\n",
    "driver = webdriver.Chrome(executable_path = path)\n",
    "driver.get(url)\n",
    "\n",
    "#Title\n",
    "title = []\n",
    "titles = driver.find_elements_by_xpath(\"//div[@class='section-content']/div/h3\")\n",
    "for a in titles:\n",
    "    title.append(a.text)\n",
    "\n",
    "#Upvotes\n",
    "upvote = []\n",
    "upvotes =driver.find_elements_by_xpath(\"//div[@class='multirecommend js-actionMultirecommend u-flexCenter']/span/button\")\n",
    "for b in upvotes:\n",
    "    upvote.append(b.text)\n",
    "#Links\n",
    "link = []\n",
    "links = driver.find_elements_by_xpath(\"//div[@class='postArticle-content']/a\")\n",
    "for c in links:\n",
    "    link.append(c.get_property('href'))\n",
    "\n",
    "#image link \n",
    "img_url = []\n",
    "img_urls = driver.find_elements_by_xpath(\"//div[@class='progressiveMedia js-progressiveMedia graf-image is-canvasLoaded is-imageLoaded']/img\")\n",
    "for d in img_urls:\n",
    "    img_url.append(d.get_property('src'))\n",
    "\n",
    "author = []\n",
    "authors = driver.find_elements_by_xpath(\"//div[@class='postMetaInline postMetaInline-authorLockup ui-captionStrong u-flex1 u-noWrapWithEllipsis']/a\")\n",
    "for e in authors:\n",
    "    author.append(e.text)\n",
    "    \n",
    "res_type = \"article\"\n",
    "keyword = \"keyword\"\n",
    "Source = \"medium\"\n",
    "price = \"Free\"\n",
    "\n",
    "tot =[]\n",
    "for i in range(len(title)):\n",
    "    tot.append({\"Title\":title[i], \"Link\":link[i], \"Price\":price, \"Resource_Type\":res_type, \"Upvotes\":upvote[i], \"Keyword\":keyword,\"Source\":Source, \"Source_url\":author[i], \"Thumbnail\":img_url[i]})"
   ]
  },
  {
   "cell_type": "code",
   "execution_count": 17,
   "metadata": {},
   "outputs": [
    {
     "ename": "IndexError",
     "evalue": "list index out of range",
     "output_type": "error",
     "traceback": [
      "\u001b[1;31m---------------------------------------------------------------------------\u001b[0m",
      "\u001b[1;31mIndexError\u001b[0m                                Traceback (most recent call last)",
      "\u001b[1;32m<ipython-input-17-8689f6399b21>\u001b[0m in \u001b[0;36m<module>\u001b[1;34m\u001b[0m\n\u001b[0;32m     35\u001b[0m \u001b[1;33m\u001b[0m\u001b[0m\n\u001b[0;32m     36\u001b[0m \u001b[1;32mfor\u001b[0m \u001b[0mi\u001b[0m \u001b[1;32min\u001b[0m \u001b[0mrange\u001b[0m\u001b[1;33m(\u001b[0m\u001b[0mlen\u001b[0m\u001b[1;33m(\u001b[0m\u001b[0mlinks\u001b[0m\u001b[1;33m)\u001b[0m\u001b[1;33m)\u001b[0m\u001b[1;33m:\u001b[0m\u001b[1;33m\u001b[0m\u001b[1;33m\u001b[0m\u001b[0m\n\u001b[1;32m---> 37\u001b[1;33m     \u001b[0mtot\u001b[0m\u001b[1;33m[\u001b[0m\u001b[1;34m\"Title\"\u001b[0m\u001b[1;33m]\u001b[0m\u001b[1;33m.\u001b[0m\u001b[0mappend\u001b[0m\u001b[1;33m(\u001b[0m\u001b[0mtitle\u001b[0m\u001b[1;33m[\u001b[0m\u001b[0mi\u001b[0m\u001b[1;33m]\u001b[0m\u001b[1;33m)\u001b[0m\u001b[1;33m\u001b[0m\u001b[1;33m\u001b[0m\u001b[0m\n\u001b[0m\u001b[0;32m     38\u001b[0m     \u001b[0mtot\u001b[0m\u001b[1;33m[\u001b[0m\u001b[1;34m\"Link\"\u001b[0m\u001b[1;33m]\u001b[0m\u001b[1;33m.\u001b[0m\u001b[0mappend\u001b[0m\u001b[1;33m(\u001b[0m\u001b[0mlink\u001b[0m\u001b[1;33m[\u001b[0m\u001b[0mi\u001b[0m\u001b[1;33m]\u001b[0m\u001b[1;33m)\u001b[0m\u001b[1;33m\u001b[0m\u001b[1;33m\u001b[0m\u001b[0m\n\u001b[0;32m     39\u001b[0m     \u001b[0mtot\u001b[0m\u001b[1;33m[\u001b[0m\u001b[1;34m\"Price\"\u001b[0m\u001b[1;33m]\u001b[0m\u001b[1;33m.\u001b[0m\u001b[0mappend\u001b[0m\u001b[1;33m(\u001b[0m\u001b[1;34m\"Free\"\u001b[0m\u001b[1;33m)\u001b[0m\u001b[1;33m\u001b[0m\u001b[1;33m\u001b[0m\u001b[0m\n",
      "\u001b[1;31mIndexError\u001b[0m: list index out of range"
     ]
    }
   ],
   "source": [
    "path = r'C:\\\\Users\\\\ToyinOlape\\\\Downloads\\\\chromedriver_win32\\\\chromedriver.exe'\n",
    "driver = webdriver.Chrome(executable_path = path)\n",
    "driver.get(url)\n",
    "\n",
    "#Title\n",
    "title = []\n",
    "titles = driver.find_elements_by_xpath(\"//div[@class='section-content']/div/h3\")\n",
    "for a in titles:\n",
    "    title.append(a.text)\n",
    "\n",
    "#Upvotes\n",
    "upvote = []\n",
    "upvotes =driver.find_elements_by_xpath(\"//div[@class='multirecommend js-actionMultirecommend u-flexCenter']/span/button\")\n",
    "for b in upvotes:\n",
    "    upvote.append(b.text)\n",
    "#Links\n",
    "link = []\n",
    "links = driver.find_elements_by_xpath(\"//div[@class='postArticle-content']/a\")\n",
    "for c in links:\n",
    "    link.append(c.get_property('href'))\n",
    "\n",
    "#image link \n",
    "img_url = []\n",
    "img_urls = driver.find_elements_by_xpath(\"//div[@class='progressiveMedia js-progressiveMedia graf-image is-canvasLoaded is-imageLoaded']/img\")\n",
    "for d in img_urls:\n",
    "    img_url.append(d.get_property('src'))\n",
    "\n",
    "author = []\n",
    "authors = driver.find_elements_by_xpath(\"//div[@class='postMetaInline postMetaInline-authorLockup ui-captionStrong u-flex1 u-noWrapWithEllipsis']/a\")\n",
    "for e in authors:\n",
    "    author.append(e.text)\n",
    "\n",
    "\n",
    "tot = {\"Title\":[], \"Link\":[], \"Price\":[], \"Resource_Type\":[], \"Upvotes\":[], \"Keyword\":[],\"Source\":[], \"Source_url\":[], \"Thumbnail\":[]}\n",
    "    \n",
    "for i in range(len(links)):\n",
    "    tot[\"Title\"].append(title[i])\n",
    "    tot[\"Link\"].append(link[i])\n",
    "    tot[\"Price\"].append(\"Free\")\n",
    "    tot[\"Resource_Type\"].append(\"article\")\n",
    "    tot[\"Upvotes\"].append(upvote[i])\n",
    "    tot[\"Keyword\"].append(keyword)\n",
    "    tot[\"Source\"].append(\"medium\")\n",
    "    tot[\"Source_url\"].append(author[i])\n",
    "    #tot[\"Thumbnail\"].append(img_url[i])\n",
    "    \n",
    "df =pd.DataFrame(tot)\n",
    "df.head()"
   ]
  },
  {
   "cell_type": "code",
   "execution_count": null,
   "metadata": {},
   "outputs": [],
   "source": [
    "keywords = [\"product-design\",\"ux-research\",\"user-interface-design\",\"figma\",\"user-experience-design\"]\n",
    "tot =[]\n",
    "\n",
    "for i in keywords:\n",
    "    "
   ]
  },
  {
   "cell_type": "code",
   "execution_count": 46,
   "metadata": {},
   "outputs": [
    {
     "data": {
      "text/html": [
       "<div>\n",
       "<style scoped>\n",
       "    .dataframe tbody tr th:only-of-type {\n",
       "        vertical-align: middle;\n",
       "    }\n",
       "\n",
       "    .dataframe tbody tr th {\n",
       "        vertical-align: top;\n",
       "    }\n",
       "\n",
       "    .dataframe thead th {\n",
       "        text-align: right;\n",
       "    }\n",
       "</style>\n",
       "<table border=\"1\" class=\"dataframe\">\n",
       "  <thead>\n",
       "    <tr style=\"text-align: right;\">\n",
       "      <th></th>\n",
       "      <th>Title</th>\n",
       "      <th>Link</th>\n",
       "      <th>Price</th>\n",
       "      <th>Resource_Type</th>\n",
       "      <th>Upvotes</th>\n",
       "      <th>Keyword</th>\n",
       "      <th>Source</th>\n",
       "    </tr>\n",
       "  </thead>\n",
       "  <tbody>\n",
       "    <tr>\n",
       "      <th>0</th>\n",
       "      <td>Design System, Design Leadership, Design Think...</td>\n",
       "      <td>https://www.designbetter.co/</td>\n",
       "      <td>Paid</td>\n",
       "      <td>Video</td>\n",
       "      <td>5</td>\n",
       "      <td>product-design</td>\n",
       "      <td>hackr</td>\n",
       "    </tr>\n",
       "    <tr>\n",
       "      <th>1</th>\n",
       "      <td>Product Design Course by Google</td>\n",
       "      <td>https://www.anrdoezrs.net/links/8752481/type/d...</td>\n",
       "      <td>Paid</td>\n",
       "      <td>Video</td>\n",
       "      <td>2</td>\n",
       "      <td>product-design</td>\n",
       "      <td>hackr</td>\n",
       "    </tr>\n",
       "    <tr>\n",
       "      <th>2</th>\n",
       "      <td>How to Build Habit-Forming Products</td>\n",
       "      <td>https://click.linksynergy.com/deeplink?id=jU79...</td>\n",
       "      <td>Paid</td>\n",
       "      <td>Video</td>\n",
       "      <td>1</td>\n",
       "      <td>product-design</td>\n",
       "      <td>hackr</td>\n",
       "    </tr>\n",
       "    <tr>\n",
       "      <th>3</th>\n",
       "      <td>Design System, Design Leadership, Design Think...</td>\n",
       "      <td>https://www.designbetter.co/</td>\n",
       "      <td>Paid</td>\n",
       "      <td>Video</td>\n",
       "      <td>5</td>\n",
       "      <td>ux-research</td>\n",
       "      <td>hackr</td>\n",
       "    </tr>\n",
       "    <tr>\n",
       "      <th>4</th>\n",
       "      <td>Product Design Course by Google</td>\n",
       "      <td>https://www.anrdoezrs.net/links/8752481/type/d...</td>\n",
       "      <td>Paid</td>\n",
       "      <td>Video</td>\n",
       "      <td>2</td>\n",
       "      <td>ux-research</td>\n",
       "      <td>hackr</td>\n",
       "    </tr>\n",
       "  </tbody>\n",
       "</table>\n",
       "</div>"
      ],
      "text/plain": [
       "                                               Title  \\\n",
       "0  Design System, Design Leadership, Design Think...   \n",
       "1                    Product Design Course by Google   \n",
       "2                How to Build Habit-Forming Products   \n",
       "3  Design System, Design Leadership, Design Think...   \n",
       "4                    Product Design Course by Google   \n",
       "\n",
       "                                                Link Price Resource_Type  \\\n",
       "0                       https://www.designbetter.co/  Paid         Video   \n",
       "1  https://www.anrdoezrs.net/links/8752481/type/d...  Paid         Video   \n",
       "2  https://click.linksynergy.com/deeplink?id=jU79...  Paid         Video   \n",
       "3                       https://www.designbetter.co/  Paid         Video   \n",
       "4  https://www.anrdoezrs.net/links/8752481/type/d...  Paid         Video   \n",
       "\n",
       "  Upvotes         Keyword Source  \n",
       "0       5  product-design  hackr  \n",
       "1       2  product-design  hackr  \n",
       "2       1  product-design  hackr  \n",
       "3       5     ux-research  hackr  \n",
       "4       2     ux-research  hackr  "
      ]
     },
     "execution_count": 46,
     "metadata": {},
     "output_type": "execute_result"
    }
   ],
   "source": [
    "hackr = pd.DataFrame(tot, columns=[\"Title\", \"Link\", \"Price\", \"Resource_Type\", \"Upvotes\", \"Keyword\",\"Source\"])\n",
    "\n",
    "hackr.head()"
   ]
  },
  {
   "cell_type": "code",
   "execution_count": null,
   "metadata": {},
   "outputs": [],
   "source": [
    "hackr.to_csv(\"hackr.csv\")"
   ]
  }
 ],
 "metadata": {
  "kernelspec": {
   "display_name": "Python 3",
   "language": "python",
   "name": "python3"
  },
  "language_info": {
   "codemirror_mode": {
    "name": "ipython",
    "version": 3
   },
   "file_extension": ".py",
   "mimetype": "text/x-python",
   "name": "python",
   "nbconvert_exporter": "python",
   "pygments_lexer": "ipython3",
   "version": "3.9.4"
  }
 },
 "nbformat": 4,
 "nbformat_minor": 4
}
