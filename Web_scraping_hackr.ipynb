{
 "cells": [
  {
   "cell_type": "code",
   "execution_count": 43,
   "metadata": {},
   "outputs": [
    {
     "data": {
      "text/plain": [
       "{'Title': 'Product Design Course by Google',\n",
       " 'Link': 'https://www.anrdoezrs.net/links/8752481/type/dlg/https://udacity.com/course/product-design--ud509/',\n",
       " 'Price': 'Paid',\n",
       " 'Resource_Type': 'Video',\n",
       " 'Upvotes': '2',\n",
       " 'Keyword': 'product-design',\n",
       " 'Source': 'hackr'}"
      ]
     },
     "execution_count": 43,
     "metadata": {},
     "output_type": "execute_result"
    }
   ],
   "source": [
    "base_url = \"https://hackr.io/tutorials/learn-\"\n",
    "keywords = [\"product-design\",\"ux-research\",\"user-interface-design\",\"figma\",\"user-experience-design\"]\n",
    "tot =[]\n",
    "\n",
    "\n",
    "for i in range(len(keywords)):\n",
    "\n",
    "    url = base_url+keywords[i]\n",
    "    repsonse = requests.get(url)\n",
    "    soup = BeautifulSoup(response.content)\n",
    "    results = soup.find(class_='js-tutorial-listing-content')\n",
    "    resources = results.find_all('div', class_='tut-list-primary')\n",
    "\n",
    "    hackr =[]\n",
    "\n",
    "    for resource in resources:\n",
    "        title = resource.find(\"span\", class_=\"tutorial-title-txt\").text\n",
    "        link = resource.find(\"div\", class_=\"title-links no-margin\").find('a')[\"href\"]\n",
    "        details = resource.find(\"div\", class_=\"tut-label-group marginright-sm\").text\n",
    "        items = resource_type.split()\n",
    "        price = items[0]\n",
    "        res_type = items[1]\n",
    "        upvotes = resource.find(\"span\", class_=\"count\").text\n",
    "        source_url = resource.find(\"span\", class_=\"js-tutorial\").text.strip(\"()\")\n",
    "        keyword = keywords[i]\n",
    "        source = \"hackr\"\n",
    "        hackr.append({\"Title\": title, \"Link\": link, \"Price\":price, \"Resource_Type\":res_type, \"Upvotes\": upvotes, \"Keyword\": keyword,\"Source\":source, \"Source_url\":source_url})\n",
    "    for val in hackr:\n",
    "        tot.append(val)\n",
    "tot[1]\n",
    "\n",
    "\n"
   ]
  },
  {
   "cell_type": "code",
   "execution_count": 46,
   "metadata": {},
   "outputs": [
    {
     "data": {
      "text/html": [
       "<div>\n",
       "<style scoped>\n",
       "    .dataframe tbody tr th:only-of-type {\n",
       "        vertical-align: middle;\n",
       "    }\n",
       "\n",
       "    .dataframe tbody tr th {\n",
       "        vertical-align: top;\n",
       "    }\n",
       "\n",
       "    .dataframe thead th {\n",
       "        text-align: right;\n",
       "    }\n",
       "</style>\n",
       "<table border=\"1\" class=\"dataframe\">\n",
       "  <thead>\n",
       "    <tr style=\"text-align: right;\">\n",
       "      <th></th>\n",
       "      <th>Title</th>\n",
       "      <th>Link</th>\n",
       "      <th>Price</th>\n",
       "      <th>Resource_Type</th>\n",
       "      <th>Upvotes</th>\n",
       "      <th>Keyword</th>\n",
       "      <th>Source</th>\n",
       "    </tr>\n",
       "  </thead>\n",
       "  <tbody>\n",
       "    <tr>\n",
       "      <th>0</th>\n",
       "      <td>Design System, Design Leadership, Design Think...</td>\n",
       "      <td>https://www.designbetter.co/</td>\n",
       "      <td>Paid</td>\n",
       "      <td>Video</td>\n",
       "      <td>5</td>\n",
       "      <td>product-design</td>\n",
       "      <td>hackr</td>\n",
       "    </tr>\n",
       "    <tr>\n",
       "      <th>1</th>\n",
       "      <td>Product Design Course by Google</td>\n",
       "      <td>https://www.anrdoezrs.net/links/8752481/type/d...</td>\n",
       "      <td>Paid</td>\n",
       "      <td>Video</td>\n",
       "      <td>2</td>\n",
       "      <td>product-design</td>\n",
       "      <td>hackr</td>\n",
       "    </tr>\n",
       "    <tr>\n",
       "      <th>2</th>\n",
       "      <td>How to Build Habit-Forming Products</td>\n",
       "      <td>https://click.linksynergy.com/deeplink?id=jU79...</td>\n",
       "      <td>Paid</td>\n",
       "      <td>Video</td>\n",
       "      <td>1</td>\n",
       "      <td>product-design</td>\n",
       "      <td>hackr</td>\n",
       "    </tr>\n",
       "    <tr>\n",
       "      <th>3</th>\n",
       "      <td>Design System, Design Leadership, Design Think...</td>\n",
       "      <td>https://www.designbetter.co/</td>\n",
       "      <td>Paid</td>\n",
       "      <td>Video</td>\n",
       "      <td>5</td>\n",
       "      <td>ux-research</td>\n",
       "      <td>hackr</td>\n",
       "    </tr>\n",
       "    <tr>\n",
       "      <th>4</th>\n",
       "      <td>Product Design Course by Google</td>\n",
       "      <td>https://www.anrdoezrs.net/links/8752481/type/d...</td>\n",
       "      <td>Paid</td>\n",
       "      <td>Video</td>\n",
       "      <td>2</td>\n",
       "      <td>ux-research</td>\n",
       "      <td>hackr</td>\n",
       "    </tr>\n",
       "  </tbody>\n",
       "</table>\n",
       "</div>"
      ],
      "text/plain": [
       "                                               Title  \\\n",
       "0  Design System, Design Leadership, Design Think...   \n",
       "1                    Product Design Course by Google   \n",
       "2                How to Build Habit-Forming Products   \n",
       "3  Design System, Design Leadership, Design Think...   \n",
       "4                    Product Design Course by Google   \n",
       "\n",
       "                                                Link Price Resource_Type  \\\n",
       "0                       https://www.designbetter.co/  Paid         Video   \n",
       "1  https://www.anrdoezrs.net/links/8752481/type/d...  Paid         Video   \n",
       "2  https://click.linksynergy.com/deeplink?id=jU79...  Paid         Video   \n",
       "3                       https://www.designbetter.co/  Paid         Video   \n",
       "4  https://www.anrdoezrs.net/links/8752481/type/d...  Paid         Video   \n",
       "\n",
       "  Upvotes         Keyword Source  \n",
       "0       5  product-design  hackr  \n",
       "1       2  product-design  hackr  \n",
       "2       1  product-design  hackr  \n",
       "3       5     ux-research  hackr  \n",
       "4       2     ux-research  hackr  "
      ]
     },
     "execution_count": 46,
     "metadata": {},
     "output_type": "execute_result"
    }
   ],
   "source": [
    "hackr = pd.DataFrame(tot, columns=[\"Title\", \"Link\", \"Price\", \"Resource_Type\", \"Upvotes\", \"Keyword\",\"Source\"])\n",
    "\n",
    "hackr.head()"
   ]
  },
  {
   "cell_type": "code",
   "execution_count": null,
   "metadata": {},
   "outputs": [],
   "source": [
    "hackr.to_csv(\"hackr.csv\")"
   ]
  }
 ],
 "metadata": {
  "kernelspec": {
   "display_name": "Python 3",
   "language": "python",
   "name": "python3"
  },
  "language_info": {
   "codemirror_mode": {
    "name": "ipython",
    "version": 3
   },
   "file_extension": ".py",
   "mimetype": "text/x-python",
   "name": "python",
   "nbconvert_exporter": "python",
   "pygments_lexer": "ipython3",
   "version": "3.7.3"
  }
 },
 "nbformat": 4,
 "nbformat_minor": 4
}
